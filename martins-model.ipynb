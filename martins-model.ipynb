{
 "cells": [
  {
   "cell_type": "code",
   "execution_count": 16,
   "metadata": {},
   "outputs": [],
   "source": [
    "from model import DDPG\n",
    "from env import launch_env\n"
   ]
  },
  {
   "cell_type": "code",
   "execution_count": 18,
   "metadata": {},
   "outputs": [
    {
     "name": "stderr",
     "output_type": "stream",
     "text": [
      "DEBUG:gym-duckietown:Falling back to non-multisampled frame buffer\n",
      "DEBUG:gym-duckietown:Falling back to non-multisampled frame buffer\n",
      "DEBUG:gym-duckietown:loading map file \"/Users/martinweiss/code/academic/duckietown/challenge-aido1_LF1-template-pytorch/gym-duckietown/gym_duckietown/maps/loop_empty.yaml\"\n",
      "DEBUG:gym-duckietown:loading mesh \"/Users/martinweiss/code/academic/duckietown/challenge-aido1_LF1-template-pytorch/gym-duckietown/gym_duckietown/meshes/duckiebot.obj\"\n",
      "DEBUG:gym-duckietown:loading materials from \"/Users/martinweiss/code/academic/duckietown/challenge-aido1_LF1-template-pytorch/gym-duckietown/gym_duckietown/meshes/duckiebot.mtl\"\n",
      "DEBUG:gym-duckietown:loading texture \"/Users/martinweiss/code/academic/duckietown/challenge-aido1_LF1-template-pytorch/gym-duckietown/gym_duckietown/textures/floor_1.png\"\n",
      "DEBUG:gym-duckietown:loading texture \"/Users/martinweiss/code/academic/duckietown/challenge-aido1_LF1-template-pytorch/gym-duckietown/gym_duckietown/textures/curve_left_1.png\"\n",
      "DEBUG:gym-duckietown:loading texture \"/Users/martinweiss/code/academic/duckietown/challenge-aido1_LF1-template-pytorch/gym-duckietown/gym_duckietown/textures/straight_1.png\"\n",
      "DEBUG:gym-duckietown:loading texture \"/Users/martinweiss/code/academic/duckietown/challenge-aido1_LF1-template-pytorch/gym-duckietown/gym_duckietown/textures/curve_right_1.png\"\n",
      "INFO:gym-duckietown:Starting at [4.05833625 0.         2.17835003] 1.6292900738092628\n"
     ]
    }
   ],
   "source": [
    "RANDOM_SEED = 1234\n",
    "# Size of replay buffer\n",
    "BUFFER_SIZE = 10000\n",
    "MINIBATCH_SIZE = 64\n",
    "env = launch_env(None)"
   ]
  },
  {
   "cell_type": "code",
   "execution_count": 25,
   "metadata": {},
   "outputs": [],
   "source": [
    "model = DDPG(state_dim=env.observation_space.shape, action_dim=2, max_action=1, net_type=\"cnn\")\n"
   ]
  },
  {
   "cell_type": "code",
   "execution_count": null,
   "metadata": {},
   "outputs": [],
   "source": [
    "from wrappers import NormalizeWrapper, ImgWrapper, ActionWrapper, ResizeWrapper\n"
   ]
  },
  {
   "cell_type": "code",
   "execution_count": 26,
   "metadata": {},
   "outputs": [
    {
     "name": "stderr",
     "output_type": "stream",
     "text": [
      "INFO:gym-duckietown:Starting at [2.75442323 0.         3.0079666 ] 4.836049502872963\n"
     ]
    }
   ],
   "source": [
    "observation = env.reset()"
   ]
  },
  {
   "cell_type": "code",
   "execution_count": null,
   "metadata": {},
   "outputs": [],
   "source": []
  },
  {
   "cell_type": "code",
   "execution_count": null,
   "metadata": {},
   "outputs": [
    {
     "name": "stdout",
     "output_type": "stream",
     "text": [
      "> /Users/martinweiss/code/academic/duckietown/challenge-aido1_LF1-template-pytorch/model.py(185)train()\n",
      "-> import pdb; pdb.set_trace()\n",
      "(Pdb) l\n",
      "180  \t        else:\n",
      "181  \t            state = torch.FloatTensor(np.expand_dims(state, axis=0)).to(device)\n",
      "182  \t        return self.actor(state).cpu().data.numpy().flatten()\n",
      "183  \t\n",
      "184  \t    def train(self, replay_buffer, iterations, batch_size=64, discount=0.99, tau=0.001):\n",
      "185  ->\t        import pdb; pdb.set_trace()\n",
      "186  \t        for it in range(iterations):\n",
      "187  \t\n",
      "188  \t            # Sample replay buffer\n",
      "189  \t            sample = replay_buffer.sample(batch_size, flat=self.flat)\n",
      "190  \t            state = torch.FloatTensor(sample[\"state\"]).to(device)\n",
      "(Pdb) n\n",
      "> /Users/martinweiss/code/academic/duckietown/challenge-aido1_LF1-template-pytorch/model.py(188)train()\n",
      "-> # Sample replay buffer\n",
      "(Pdb) \n",
      "AttributeError: 'numpy.ndarray' object has no attribute 'sample'\n",
      "> /Users/martinweiss/code/academic/duckietown/challenge-aido1_LF1-template-pytorch/model.py(188)train()\n",
      "-> # Sample replay buffer\n",
      "(Pdb) \n",
      "--Return--\n",
      "> /Users/martinweiss/code/academic/duckietown/challenge-aido1_LF1-template-pytorch/model.py(188)train()->None\n",
      "-> # Sample replay buffer\n"
     ]
    }
   ],
   "source": [
    "model.train(replay_buffer=observation, iterations=100, batch_size=64, discount=0.99, tau=0.001)"
   ]
  },
  {
   "cell_type": "code",
   "execution_count": 2,
   "metadata": {},
   "outputs": [
    {
     "ename": "AttributeError",
     "evalue": "module 'env' has no attribute 'replay_buffer'",
     "output_type": "error",
     "traceback": [
      "\u001b[0;31m---------------------------------------------------------------------------\u001b[0m",
      "\u001b[0;31mAttributeError\u001b[0m                            Traceback (most recent call last)",
      "\u001b[0;32m<ipython-input-2-fc207c00e9da>\u001b[0m in \u001b[0;36m<module>\u001b[0;34m()\u001b[0m\n\u001b[0;32m----> 1\u001b[0;31m \u001b[0menv\u001b[0m\u001b[0;34m.\u001b[0m\u001b[0mreplay_buffer\u001b[0m\u001b[0;34m\u001b[0m\u001b[0m\n\u001b[0m",
      "\u001b[0;31mAttributeError\u001b[0m: module 'env' has no attribute 'replay_buffer'"
     ]
    }
   ],
   "source": [
    "env.replay_buffer\n"
   ]
  },
  {
   "cell_type": "code",
   "execution_count": null,
   "metadata": {},
   "outputs": [],
   "source": []
  }
 ],
 "metadata": {
  "kernelspec": {
   "display_name": "Python 3",
   "language": "python",
   "name": "python3"
  },
  "language_info": {
   "codemirror_mode": {
    "name": "ipython",
    "version": 3
   },
   "file_extension": ".py",
   "mimetype": "text/x-python",
   "name": "python",
   "nbconvert_exporter": "python",
   "pygments_lexer": "ipython3",
   "version": "3.5.2"
  }
 },
 "nbformat": 4,
 "nbformat_minor": 2
}
